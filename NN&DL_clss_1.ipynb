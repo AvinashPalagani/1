{
  "nbformat": 4,
  "nbformat_minor": 0,
  "metadata": {
    "colab": {
      "provenance": [],
      "authorship_tag": "ABX9TyPkTGV/YWw3l7F3faEyRXvo",
      "include_colab_link": true
    },
    "kernelspec": {
      "name": "python3",
      "display_name": "Python 3"
    },
    "language_info": {
      "name": "python"
    }
  },
  "cells": [
    {
      "cell_type": "markdown",
      "metadata": {
        "id": "view-in-github",
        "colab_type": "text"
      },
      "source": [
        "<a href=\"https://colab.research.google.com/github/AvinashPalagani/1/blob/main/NN%26DL_clss_1.ipynb\" target=\"_parent\"><img src=\"https://colab.research.google.com/assets/colab-badge.svg\" alt=\"Open In Colab\"/></a>"
      ]
    },
    {
      "cell_type": "code",
      "execution_count": null,
      "metadata": {
        "colab": {
          "base_uri": "https://localhost:8080/"
        },
        "id": "elkSLFqwC7Zi",
        "outputId": "b0ca6848-1b4a-42ee-b3f9-17f3f7b66d8f"
      },
      "outputs": [
        {
          "output_type": "stream",
          "name": "stdout",
          "text": [
            "enter a word \n",
            "orange\n",
            "naro\n"
          ]
        }
      ],
      "source": [
        "#QUE 1A\n",
        "\n",
        "ipString = input(\"enter a word \\n\")\n",
        "opString = (ipString[:-2])[::-1]    # ([:-2] - to remove last 2 characters of string ) ([::-1] - to reverse a string )\n",
        "print (opString)"
      ]
    },
    {
      "cell_type": "code",
      "source": [
        "# QUE 1B\n",
        "\n",
        "num1 = int(input(\"enter 1st number \\n\"))\n",
        "num2 = int(input(\"enter 2nd number \\n\"))\n",
        "sum = num1 + num2\n",
        "diff = num1 - num2\n",
        "prod = num1 * num2\n",
        "pow = num1 ** num2\n",
        "print (\"sum : \", sum)\n",
        "print (\"difference : \", diff)\n",
        "print (\"product : \", prod)\n",
        "print (\"num1 power num2 : \", pow)"
      ],
      "metadata": {
        "colab": {
          "base_uri": "https://localhost:8080/"
        },
        "id": "V0FOdZE9DWjM",
        "outputId": "6390f201-51b7-4d72-a67e-11f0ff37906b"
      },
      "execution_count": null,
      "outputs": [
        {
          "output_type": "stream",
          "name": "stdout",
          "text": [
            "enter 1st number \n",
            "20\n",
            "enter 2nd number \n",
            "40\n",
            "sum :  60\n",
            "difference :  -20\n",
            "product :  800\n",
            "num1 power num2 :  10995116277760000000000000000000000000000000000000000\n"
          ]
        }
      ]
    },
    {
      "cell_type": "code",
      "source": [
        "# QUE 2\n",
        "\n",
        "ipString = str(input(\"enter a sentence \\n\"))\n",
        "opString = ipString.replace(\"python\", \"pythons\")\n",
        "print (opString)"
      ],
      "metadata": {
        "colab": {
          "base_uri": "https://localhost:8080/"
        },
        "id": "uZvNQFvvDrEC",
        "outputId": "88102a38-d66c-4b3f-c08e-5411894738ee"
      },
      "execution_count": null,
      "outputs": [
        {
          "output_type": "stream",
          "name": "stdout",
          "text": [
            "enter a sentence \n",
            "python\n",
            "pythons\n"
          ]
        }
      ]
    },
    {
      "cell_type": "code",
      "source": [
        "# QUE 3\n",
        "\n",
        "classScore = int(input(\"enter class score \\n\"))\n",
        "\n",
        "if ((classScore >= 90) and (classScore < 100)) :\n",
        "  print(\"GRADE A\")\n",
        "elif ((classScore >= 80) and (classScore < 90)) :\n",
        "  print(\"GRADE B\")\n",
        "elif ((classScore >= 70) and (classScore < 80)) :\n",
        "  print(\"GRADE C\")\n",
        "elif ((classScore >= 60) and (classScore < 70)) :\n",
        "  print(\"GRADE D\")\n",
        "elif ((classScore >= 0) and (classScore < 60)) :\n",
        "  print(\"GRADE F\")\n",
        "else:\n",
        "  print(\"INVALID INPUT\")\n"
      ],
      "metadata": {
        "colab": {
          "base_uri": "https://localhost:8080/"
        },
        "id": "huJmwZPrDz_Y",
        "outputId": "ee3c5b0d-bafb-4c34-e9ef-5f6affee7edf"
      },
      "execution_count": null,
      "outputs": [
        {
          "output_type": "stream",
          "name": "stdout",
          "text": [
            "enter class score \n",
            "90\n",
            "GRADE A\n"
          ]
        }
      ]
    }
  ]
}